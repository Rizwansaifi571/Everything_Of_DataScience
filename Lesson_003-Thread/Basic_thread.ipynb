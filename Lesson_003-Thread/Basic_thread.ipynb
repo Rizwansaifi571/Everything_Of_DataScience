{
 "cells": [
  {
   "cell_type": "code",
   "execution_count": 1,
   "id": "c6bcbe23",
   "metadata": {},
   "outputs": [
    {
     "name": "stdout",
     "output_type": "stream",
     "text": [
      "Number : 0\n",
      "Number : 1\n",
      "Number : 2\n",
      "Number : 3\n",
      "Number : 4\n",
      "Letter : A\n",
      "Letter : B\n",
      "Letter : C\n",
      "Letter : D\n",
      "Letter : E\n",
      "Time Taken : 10.004812479019165 Second\n"
     ]
    }
   ],
   "source": [
    "import time\n",
    "\n",
    "def print_number():\n",
    "    for i in range(5):\n",
    "        time.sleep(1)\n",
    "        print(f\"Number : {i}\")\n",
    "\n",
    "def print_alphabet():\n",
    "    str = 'ABCDE'\n",
    "    for i in str:\n",
    "        time.sleep(1)\n",
    "        print(\"Letter : {}\".format(i))\n",
    "\n",
    "\n",
    "start_time = time.time()\n",
    "print_number()\n",
    "print_alphabet()\n",
    "finished_time = time.time() - start_time\n",
    "print(\"Time Taken : {} Second\".format(finished_time))\n"
   ]
  },
  {
   "cell_type": "code",
   "execution_count": 2,
   "id": "81c04cc3",
   "metadata": {},
   "outputs": [
    {
     "name": "stdout",
     "output_type": "stream",
     "text": [
      "Number : 0\n",
      "Letter : A\n",
      "Number : 1Letter : B\n",
      "\n",
      "Number : 2Letter : C\n",
      "\n",
      "Letter : D\n",
      "Number : 3\n",
      "Number : 4\n",
      "Letter : E\n",
      "Time Taken : 5.021741151809692 Second\n"
     ]
    }
   ],
   "source": [
    "import threading\n",
    "import time\n",
    "\n",
    "def print_number():\n",
    "    for i in range(5):\n",
    "        time.sleep(1)\n",
    "        print(f\"Number : {i}\")\n",
    "\n",
    "def print_alphabet():\n",
    "    str = 'ABCDE'\n",
    "    for i in str:\n",
    "        time.sleep(1)\n",
    "        print(\"Letter : {}\".format(i))\n",
    "\n",
    "thread1 = threading.Thread(target = print_number)\n",
    "thread2 = threading.Thread(target = print_alphabet)\n",
    "\n",
    "start_time = time.time()\n",
    "\n",
    "thread1.start()\n",
    "thread2.start()\n",
    "\n",
    "\n",
    "thread1.join()\n",
    "thread2.join()\n",
    "\n",
    "\n",
    "finished_time = time.time() - start_time\n",
    "print(\"Time Taken : {} Second\".format(finished_time))\n"
   ]
  },
  {
   "cell_type": "code",
   "execution_count": 16,
   "id": "3451d7fc",
   "metadata": {},
   "outputs": [
    {
     "name": "stdout",
     "output_type": "stream",
     "text": [
      "1\n",
      "2\n",
      "3\n",
      "4\n",
      "5\n",
      "Finished time :  2.002145528793335\n"
     ]
    }
   ],
   "source": [
    "# Thread Pool Executor\n",
    "\n",
    "from concurrent.futures import ThreadPoolExecutor\n",
    "import time\n",
    "\n",
    "def print_num(number):\n",
    "    time.sleep(2)\n",
    "    return number\n",
    "\n",
    "t = time.time()\n",
    "numbers = [1, 2, 3, 4, 5]\n",
    "with ThreadPoolExecutor(max_workers = 5) as executor:\n",
    "    results = executor.map(print_num, numbers)\n",
    "\n",
    "for result in results:\n",
    "    print(result)\n",
    "\n",
    "print(\"Finished time : \", time.time() - t)"
   ]
  }
 ],
 "metadata": {
  "kernelspec": {
   "display_name": "base",
   "language": "python",
   "name": "python3"
  },
  "language_info": {
   "codemirror_mode": {
    "name": "ipython",
    "version": 3
   },
   "file_extension": ".py",
   "mimetype": "text/x-python",
   "name": "python",
   "nbconvert_exporter": "python",
   "pygments_lexer": "ipython3",
   "version": "3.12.7"
  }
 },
 "nbformat": 4,
 "nbformat_minor": 5
}
