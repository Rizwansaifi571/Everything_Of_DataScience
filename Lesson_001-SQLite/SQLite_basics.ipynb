{
 "cells": [
  {
   "cell_type": "code",
   "execution_count": 1,
   "id": "145905eb",
   "metadata": {},
   "outputs": [],
   "source": [
    "# import sqlite \n",
    "import sqlite3"
   ]
  },
  {
   "cell_type": "code",
   "execution_count": 2,
   "id": "62a19e52",
   "metadata": {},
   "outputs": [
    {
     "name": "stdout",
     "output_type": "stream",
     "text": [
      "<sqlite3.Connection object at 0x000002606C33BD30>\n"
     ]
    }
   ],
   "source": [
    "# connect to an sqlite databases\n",
    "connection = sqlite3.connect('example.db')\n",
    "print(connection)"
   ]
  },
  {
   "cell_type": "code",
   "execution_count": 3,
   "id": "8d3eb617",
   "metadata": {},
   "outputs": [
    {
     "data": {
      "text/plain": [
       "<sqlite3.Cursor at 0x2606c3154c0>"
      ]
     },
     "execution_count": 3,
     "metadata": {},
     "output_type": "execute_result"
    }
   ],
   "source": [
    "# creating cursor to iterate table and rows\n",
    "cursor = connection.cursor()\n",
    "cursor"
   ]
  },
  {
   "cell_type": "code",
   "execution_count": 4,
   "id": "326a8814",
   "metadata": {},
   "outputs": [],
   "source": [
    "# create a table\n",
    "cursor.execute ('''\n",
    "create table if not exists employees (\n",
    "    id int primary key,\n",
    "    name varchar not null,      \n",
    "    age int, \n",
    "    department varchar \n",
    "    )\n",
    "''')\n",
    "\n",
    "# i also put text instead of varchar\n",
    "\n",
    "# commit the changes\n",
    "connection.commit()\n"
   ]
  },
  {
   "cell_type": "code",
   "execution_count": 5,
   "id": "3e1d1d25",
   "metadata": {},
   "outputs": [
    {
     "data": {
      "text/plain": [
       "<sqlite3.Cursor at 0x2606c3154c0>"
      ]
     },
     "execution_count": 5,
     "metadata": {},
     "output_type": "execute_result"
    }
   ],
   "source": [
    "# select commmand\n",
    "cursor.execute('''\n",
    "    select * from employees\n",
    "''')"
   ]
  },
  {
   "cell_type": "code",
   "execution_count": 6,
   "id": "ca17c077",
   "metadata": {},
   "outputs": [],
   "source": [
    "# Inserting the data into table\n",
    "cursor.execute('''\n",
    "    Insert into employees(name, age, department) values\n",
    "               ('Rizwan', 21, 'Data - Scientist'), \n",
    "               ('kashvi', 20, 'ML Enginner'), \n",
    "               ('Vishal', 22, 'Full stack Developer') \n",
    "''')\n",
    "\n",
    "connection.commit()"
   ]
  },
  {
   "cell_type": "code",
   "execution_count": 7,
   "id": "8e4d2291",
   "metadata": {},
   "outputs": [
    {
     "name": "stdout",
     "output_type": "stream",
     "text": [
      "(None, 'Rizwan', 21, 'Data - Scientist')\n",
      "(None, 'kashvi', 20, 'ML Enginner')\n",
      "(None, 'Vishal', 22, 'Full stack Developer')\n"
     ]
    }
   ],
   "source": [
    "## Query the data from the table\n",
    "cursor.execute('Select * from employees')\n",
    "rows = cursor.fetchall()\n",
    "\n",
    "## print the query data\n",
    "for row in rows:\n",
    "    print(row)"
   ]
  },
  {
   "cell_type": "code",
   "execution_count": 8,
   "id": "e5ea0dff",
   "metadata": {},
   "outputs": [],
   "source": [
    "# Update the data in the table\n",
    "cursor.execute('''\n",
    "update employees\n",
    "    set age = 23 where name = \"Vishal\"\n",
    "''')\n",
    "\n",
    "connection.commit()"
   ]
  },
  {
   "cell_type": "code",
   "execution_count": 9,
   "id": "5efb8c82",
   "metadata": {},
   "outputs": [],
   "source": [
    "# delete record from table\n",
    "cursor.execute('''\n",
    "delete from employees\n",
    "    where name = 'Vishal'\n",
    "''')\n",
    "\n",
    "connection.commit()"
   ]
  },
  {
   "cell_type": "code",
   "execution_count": 10,
   "id": "9cd7f47b",
   "metadata": {},
   "outputs": [],
   "source": [
    "connection.close()"
   ]
  },
  {
   "cell_type": "code",
   "execution_count": 11,
   "id": "99d1eb86",
   "metadata": {},
   "outputs": [],
   "source": [
    "# sales data\n",
    "connection = sqlite3.connect('sales_data.db')\n",
    "cursor = connection.cursor()\n",
    "\n",
    "cursor.execute('''\n",
    "create table if not exists sales(\n",
    "    id int not null primary key, \n",
    "    date text not null, \n",
    "    product text not null, \n",
    "    sales int, \n",
    "    region text\n",
    "    )\n",
    "''')\n",
    "\n",
    "sales_data = [\n",
    "    (1, '2025-01-01', 'Product1', 100, 'North'), \n",
    "    (2, '2025-01-02', 'Product2', 200, 'East'), \n",
    "    (3, '2025-01-03', 'Product3', 300, 'West'), \n",
    "    (4, '2025-01-04', 'Product4', 400, 'South'), \n",
    "    (5, '2025-01-05', 'Product5', 500, 'North'), \n",
    "]\n",
    "\n",
    "cursor.executemany('''\n",
    "insert into sales(id, date, product, sales, region) values\n",
    "               (?, ?, ?, ?, ?)\n",
    "''', sales_data)\n",
    "\n",
    "connection.commit()"
   ]
  },
  {
   "cell_type": "code",
   "execution_count": 12,
   "id": "6803e289",
   "metadata": {},
   "outputs": [
    {
     "name": "stdout",
     "output_type": "stream",
     "text": [
      "(1, '2025-01-01', 'Product1', 100, 'North')\n",
      "(2, '2025-01-02', 'Product2', 200, 'East')\n",
      "(3, '2025-01-03', 'Product3', 300, 'West')\n",
      "(4, '2025-01-04', 'Product4', 400, 'South')\n",
      "(5, '2025-01-05', 'Product5', 500, 'North')\n"
     ]
    }
   ],
   "source": [
    "cursor.execute('select * from sales')\n",
    "rows = cursor.fetchall()\n",
    "\n",
    "for row in rows:\n",
    "    print(row)"
   ]
  },
  {
   "cell_type": "code",
   "execution_count": 13,
   "id": "0cf4fca2",
   "metadata": {},
   "outputs": [],
   "source": [
    "# closing the db Connection\n",
    "connection.close()"
   ]
  }
 ],
 "metadata": {
  "kernelspec": {
   "display_name": "base",
   "language": "python",
   "name": "python3"
  },
  "language_info": {
   "codemirror_mode": {
    "name": "ipython",
    "version": 3
   },
   "file_extension": ".py",
   "mimetype": "text/x-python",
   "name": "python",
   "nbconvert_exporter": "python",
   "pygments_lexer": "ipython3",
   "version": "3.12.7"
  }
 },
 "nbformat": 4,
 "nbformat_minor": 5
}
