{
 "cells": [
  {
   "cell_type": "markdown",
   "id": "42fd8db5",
   "metadata": {},
   "source": [
    "# Reference Counting"
   ]
  },
  {
   "cell_type": "code",
   "execution_count": 68,
   "id": "ab559752",
   "metadata": {},
   "outputs": [
    {
     "name": "stdout",
     "output_type": "stream",
     "text": [
      "2\n"
     ]
    }
   ],
   "source": [
    "# Reference Counting\n",
    "\n",
    "import sys\n",
    "a = []\n",
    "print(sys.getrefcount(a))\n",
    "\n",
    "# ans : 2 because a is referenced 2 time for initializing and getrefcount()"
   ]
  },
  {
   "cell_type": "code",
   "execution_count": 69,
   "id": "38806cf2",
   "metadata": {},
   "outputs": [
    {
     "name": "stdout",
     "output_type": "stream",
     "text": [
      "3\n",
      "3\n"
     ]
    }
   ],
   "source": [
    "b = a\n",
    "print(sys.getrefcount(a))\n",
    "print(sys.getrefcount(b))   ## a == b\n"
   ]
  },
  {
   "cell_type": "code",
   "execution_count": 70,
   "id": "083d8030",
   "metadata": {},
   "outputs": [
    {
     "name": "stdout",
     "output_type": "stream",
     "text": [
      "2\n"
     ]
    }
   ],
   "source": [
    "del b\n",
    "print(sys.getrefcount(a))  \n"
   ]
  },
  {
   "cell_type": "markdown",
   "id": "6e0f693d",
   "metadata": {},
   "source": [
    "# Garbage Collector\n"
   ]
  },
  {
   "cell_type": "code",
   "execution_count": 71,
   "id": "4162b0bf",
   "metadata": {},
   "outputs": [
    {
     "data": {
      "text/plain": [
       "1955"
      ]
     },
     "execution_count": 71,
     "metadata": {},
     "output_type": "execute_result"
    }
   ],
   "source": [
    "import gc\n",
    "gc.enable\n",
    "\n",
    "gc.collect()"
   ]
  },
  {
   "cell_type": "code",
   "execution_count": 72,
   "id": "7b2a5ce1",
   "metadata": {},
   "outputs": [
    {
     "data": {
      "text/plain": [
       "[{'collections': 285, 'collected': 2771, 'uncollectable': 0},\n",
       " {'collections': 25, 'collected': 893, 'uncollectable': 0},\n",
       " {'collections': 34, 'collected': 3591, 'uncollectable': 0}]"
      ]
     },
     "execution_count": 72,
     "metadata": {},
     "output_type": "execute_result"
    }
   ],
   "source": [
    "gc.get_stats()"
   ]
  },
  {
   "cell_type": "code",
   "execution_count": 73,
   "id": "ede6e3b9",
   "metadata": {},
   "outputs": [
    {
     "data": {
      "text/plain": [
       "[]"
      ]
     },
     "execution_count": 73,
     "metadata": {},
     "output_type": "execute_result"
    }
   ],
   "source": [
    "gc.garbage"
   ]
  },
  {
   "cell_type": "markdown",
   "id": "b7e7009e",
   "metadata": {},
   "source": [
    "# Handling Cicular References"
   ]
  },
  {
   "cell_type": "code",
   "execution_count": 74,
   "id": "377b79f6",
   "metadata": {},
   "outputs": [],
   "source": [
    "class myclass:\n",
    "    def __init__(self, name):        # constuctor\n",
    "        self.name = name\n",
    "        print(f\"Object {self.name} created\")\n",
    "\n",
    "    def __del__(self):               # destructor\n",
    "        print(f'Object {self.name} deleted')"
   ]
  },
  {
   "cell_type": "code",
   "execution_count": 101,
   "id": "f2b93c43",
   "metadata": {},
   "outputs": [
    {
     "name": "stdout",
     "output_type": "stream",
     "text": [
      "Object obj1 created\n",
      "Object obj2 created\n",
      "Object obj1 deleted\n",
      "Object obj2 deleted\n"
     ]
    },
    {
     "data": {
      "text/plain": [
       "2"
      ]
     },
     "execution_count": 101,
     "metadata": {},
     "output_type": "execute_result"
    }
   ],
   "source": [
    "obj1 = myclass('obj1')\n",
    "obj2 = myclass('obj2')\n",
    "\n",
    "obj1.reference = obj2\n",
    "obj2.refernce = obj1\n",
    "\n",
    "\n",
    "del obj1\n",
    "del obj2\n",
    "\n",
    "# print(obj1)    // automaicaaly call krdega python if hm del ke baath access krne kaa try krenge\n",
    "\n",
    "gc.collect()"
   ]
  },
  {
   "cell_type": "markdown",
   "id": "15d4f190",
   "metadata": {},
   "source": [
    "# Memory Profiling with tracemalloc"
   ]
  },
  {
   "cell_type": "code",
   "execution_count": null,
   "id": "2b3296cc",
   "metadata": {},
   "outputs": [
    {
     "name": "stdout",
     "output_type": "stream",
     "text": [
      "Current memory usage: 0.00 MB\n",
      "Peak memory usage: 3.81 MB\n",
      "Result is 4999950000\n"
     ]
    }
   ],
   "source": [
    "import tracemalloc\n",
    "\n",
    "tracemalloc.start()\n",
    "\n",
    "# Some code block consuming memory\n",
    "result = sum(list(range(100000)))\n",
    "\n",
    "current, peak = tracemalloc.get_traced_memory()\n",
    "\n",
    "print(\"Result is {}\".format(result))\n",
    "print(f\"Current memory usage: {current / 1024 / 1024:.2f} MB\")\n",
    "print(f\"Peak memory usage: {peak / 1024 / 1024:.2f} MB\")\n",
    "\n",
    "tracemalloc.stop()\n"
   ]
  },
  {
   "cell_type": "code",
   "execution_count": 172,
   "id": "310395a2",
   "metadata": {},
   "outputs": [
    {
     "name": "stdout",
     "output_type": "stream",
     "text": [
      "Top 10 memory usage lines:\n",
      "c:\\ProgramData\\anaconda3\\Lib\\site-packages\\tornado\\platform\\asyncio.py:574: size=144 KiB, count=9, average=16.0 KiB\n",
      "c:\\ProgramData\\anaconda3\\Lib\\site-packages\\jupyter_client\\session.py:1004: size=32.0 KiB, count=1, average=32.0 KiB\n",
      "c:\\ProgramData\\anaconda3\\Lib\\json\\decoder.py:353: size=28.0 KiB, count=87, average=330 B\n",
      "c:\\ProgramData\\anaconda3\\Lib\\site-packages\\traitlets\\traitlets.py:731: size=26.9 KiB, count=450, average=61 B\n",
      "c:\\ProgramData\\anaconda3\\Lib\\site-packages\\IPython\\core\\history.py:782: size=26.3 KiB, count=63, average=427 B\n",
      "c:\\ProgramData\\anaconda3\\Lib\\site-packages\\IPython\\core\\compilerop.py:86: size=17.7 KiB, count=204, average=89 B\n",
      "c:\\ProgramData\\anaconda3\\Lib\\site-packages\\traitlets\\traitlets.py:1543: size=13.6 KiB, count=219, average=63 B\n",
      "c:\\ProgramData\\anaconda3\\Lib\\site-packages\\IPython\\core\\interactiveshell.py:1584: size=12.7 KiB, count=1, average=12.7 KiB\n",
      "c:\\ProgramData\\anaconda3\\Lib\\site-packages\\jupyter_client\\jsonutil.py:111: size=12.5 KiB, count=255, average=50 B\n",
      "c:\\ProgramData\\anaconda3\\Lib\\site-packages\\zmq\\sugar\\attrsettr.py:44: size=10105 B, count=215, average=47 B\n"
     ]
    }
   ],
   "source": [
    "import tracemalloc\n",
    "\n",
    "tracemalloc.start()\n",
    "\n",
    "# Example function to create a list\n",
    "def create_list(n):\n",
    "    return [i for i in range(n)]\n",
    "\n",
    "# Main function\n",
    "def main():\n",
    "    create_list(10000)\n",
    "    snapshot = tracemalloc.take_snapshot()\n",
    "    top_stats = snapshot.statistics('lineno')   # line number\n",
    "    print(\"Top 10 memory usage lines:\")\n",
    "    for stat in top_stats[:10]:\n",
    "        print(stat)\n",
    "\n",
    "main()"
   ]
  }
 ],
 "metadata": {
  "kernelspec": {
   "display_name": "base",
   "language": "python",
   "name": "python3"
  },
  "language_info": {
   "codemirror_mode": {
    "name": "ipython",
    "version": 3
   },
   "file_extension": ".py",
   "mimetype": "text/x-python",
   "name": "python",
   "nbconvert_exporter": "python",
   "pygments_lexer": "ipython3",
   "version": "3.12.7"
  }
 },
 "nbformat": 4,
 "nbformat_minor": 5
}
