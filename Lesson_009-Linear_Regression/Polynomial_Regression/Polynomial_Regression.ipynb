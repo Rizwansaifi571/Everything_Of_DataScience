{
 "cells": [
  {
   "cell_type": "code",
   "execution_count": 69,
   "id": "85010cb0",
   "metadata": {},
   "outputs": [],
   "source": [
    "##import libraries\n",
    "import numpy as np \n",
    "import pandas as pd \n",
    "import matplotlib.pyplot as plt \n",
    "import seaborn as sns"
   ]
  },
  {
   "cell_type": "code",
   "execution_count": 70,
   "id": "9dadeab4",
   "metadata": {},
   "outputs": [
    {
     "name": "stdout",
     "output_type": "stream",
     "text": [
      "(100, 1)\n"
     ]
    },
    {
     "data": {
      "text/plain": [
       "(100, 1)"
      ]
     },
     "execution_count": 70,
     "metadata": {},
     "output_type": "execute_result"
    }
   ],
   "source": [
    "## Create dataset using quadratic equation\n",
    "\n",
    "np.random.seed(42)\n",
    "\n",
    "X = 6 * np.random.rand(100, 1) - 3\n",
    "y = 0.5 * X**2 + 1.5*X + 2 + np.random.randn(100, 1)\n",
    "# quadratic equation used- y=0.5x^2+1.5x+2 + outliers\n",
    "\n",
    "print(X.shape)\n",
    "y.shape"
   ]
  },
  {
   "cell_type": "code",
   "execution_count": 71,
   "id": "64d15b60",
   "metadata": {},
   "outputs": [
    {
     "data": {
      "image/png": "[encoded data removed]",
      "text/plain": [
       "<Figure size 640x480 with 1 Axes>"
      ]
     },
     "metadata": {},
     "output_type": "display_data"
    }
   ],
   "source": [
    "plt.scatter(X, y, c = 'g')\n",
    "\n",
    "plt.xlabel('X Dataset')\n",
    "plt.ylabel('Y Dataset')\n",
    "plt.show()"
   ]
  },
  {
   "cell_type": "code",
   "execution_count": 72,
   "id": "236f62a7",
   "metadata": {},
   "outputs": [],
   "source": [
    "# Train Test Split\n",
    "\n",
    "from sklearn.model_selection import train_test_split\n",
    "\n",
    "X_train, X_test, y_train, y_test = train_test_split(X, y, test_size = 0.25, random_state = 42)"
   ]
  },
  {
   "cell_type": "code",
   "execution_count": 73,
   "id": "3e9a9bfb",
   "metadata": {},
   "outputs": [
    {
     "data": {
      "text/html": [
       "<style>#sk-container-id-3 {\n",
       "  /* Definition of color scheme common for light and dark mode */\n",
       "  --sklearn-color-text: black;\n",
       "  --sklearn-color-line: gray;\n",
       "  /* Definition of color scheme for unfitted estimators */\n",
       "  --sklearn-color-unfitted-level-0: #fff5e6;\n",
       "  --sklearn-color-unfitted-level-1: #f6e4d2;\n",
       "  --sklearn-color-unfitted-level-2: #ffe0b3;\n",
       "  --sklearn-color-unfitted-level-3: chocolate;\n",
       "  /* Definition of color scheme for fitted estimators */\n",
       "  --sklearn-color-fitted-level-0: #f0f8ff;\n",
       "  --sklearn-color-fitted-level-1: #d4ebff;\n",
       "  --sklearn-color-fitted-level-2: #b3dbfd;\n",
       "  --sklearn-color-fitted-level-3: cornflowerblue;\n",
       "\n",
       "  /* Specific color for light theme */\n",
       "  --sklearn-color-text-on-default-background: var(--sg-text-color, var(--theme-code-foreground, var(--jp-content-font-color1, black)));\n",
       "  --sklearn-color-background: var(--sg-background-color, var(--theme-background, var(--jp-layout-color0, white)));\n",
       "  --sklearn-color-border-box: var(--sg-text-color, var(--theme-code-foreground, var(--jp-content-font-color1, black)));\n",
       "  --sklearn-color-icon: #696969;\n",
       "\n",
       "  @media (prefers-color-scheme: dark) {\n",
       "    /* Redefinition of color scheme for dark theme */\n",
       "    --sklearn-color-text-on-default-background: var(--sg-text-color, var(--theme-code-foreground, var(--jp-content-font-color1, white)));\n",
       "    --sklearn-color-background: var(--sg-background-color, var(--theme-background, var(--jp-layout-color0, #111)));\n",
       "    --sklearn-color-border-box: var(--sg-text-color, var(--theme-code-foreground, var(--jp-content-font-color1, white)));\n",
       "    --sklearn-color-icon: #878787;\n",
       "  }\n",
       "}\n",
       "\n",
       "#sk-container-id-3 {\n",
       "  color: var(--sklearn-color-text);\n",
       "}\n",
       "\n",
       "#sk-container-id-3 pre {\n",
       "  padding: 0;\n",
       "}\n",
       "\n",
       "#sk-container-id-3 input.sk-hidden--visually {\n",
       "  border: 0;\n",
       "  clip: rect(1px 1px 1px 1px);\n",
       "  clip: rect(1px, 1px, 1px, 1px);\n",
       "  height: 1px;\n",
       "  margin: -1px;\n",
       "  overflow: hidden;\n",
       "  padding: 0;\n",
       "  position: absolute;\n",
       "  width: 1px;\n",
       "}\n",
       "\n",
       "#sk-container-id-3 div.sk-dashed-wrapped {\n",
       "  border: 1px dashed var(--sklearn-color-line);\n",
       "  margin: 0 0.4em 0.5em 0.4em;\n",
       "  box-sizing: border-box;\n",
       "  padding-bottom: 0.4em;\n",
       "  background-color: var(--sklearn-color-background);\n",
       "}\n",
       "\n",
       "#sk-container-id-3 div.sk-container {\n",
       "  /* jupyter's `normalize.less` sets `[hidden] { display: none; }`\n",
       "     but bootstrap.min.css set `[hidden] { display: none !important; }`\n",
       "     so we also need the `!important` here to be able to override the\n",
       "     default hidden behavior on the sphinx rendered scikit-learn.org.\n",
       "     See: https://github.com/scikit-learn/scikit-learn/issues/21755 */\n",
       "  display: inline-block !important;\n",
       "  position: relative;\n",
       "}\n",
       "\n",
       "#sk-container-id-3 div.sk-text-repr-fallback {\n",
       "  display: none;\n",
       "}\n",
       "\n",
       "div.sk-parallel-item,\n",
       "div.sk-serial,\n",
       "div.sk-item {\n",
       "  /* draw centered vertical line to link estimators */\n",
       "  background-image: linear-gradient(var(--sklearn-color-text-on-default-background), var(--sklearn-color-text-on-default-background));\n",
       "  background-size: 2px 100%;\n",
       "  background-repeat: no-repeat;\n",
       "  background-position: center center;\n",
       "}\n",
       "\n",
       "/* Parallel-specific style estimator block */\n",
       "\n",
       "#sk-container-id-3 div.sk-parallel-item::after {\n",
       "  content: \"\";\n",
       "  width: 100%;\n",
       "  border-bottom: 2px solid var(--sklearn-color-text-on-default-background);\n",
       "  flex-grow: 1;\n",
       "}\n",
       "\n",
       "#sk-container-id-3 div.sk-parallel {\n",
       "  display: flex;\n",
       "  align-items: stretch;\n",
       "  justify-content: center;\n",
       "  background-color: var(--sklearn-color-background);\n",
       "  position: relative;\n",
       "}\n",
       "\n",
       "#sk-container-id-3 div.sk-parallel-item {\n",
       "  display: flex;\n",
       "  flex-direction: column;\n",
       "}\n",
       "\n",
       "#sk-container-id-3 div.sk-parallel-item:first-child::after {\n",
       "  align-self: flex-end;\n",
       "  width: 50%;\n",
       "}\n",
       "\n",
       "#sk-container-id-3 div.sk-parallel-item:last-child::after {\n",
       "  align-self: flex-start;\n",
       "  width: 50%;\n",
       "}\n",
       "\n",
       "#sk-container-id-3 div.sk-parallel-item:only-child::after {\n",
       "  width: 0;\n",
       "}\n",
       "\n",
       "/* Serial-specific style estimator block */\n",
       "\n",
       "#sk-container-id-3 div.sk-serial {\n",
       "  display: flex;\n",
       "  flex-direction: column;\n",
       "  align-items: center;\n",
       "  background-color: var(--sklearn-color-background);\n",
       "  padding-right: 1em;\n",
       "  padding-left: 1em;\n",
       "}\n",
       "\n",
       "\n",
       "/* Toggleable style: style used for estimator/Pipeline/ColumnTransformer box that is\n",
       "clickable and can be expanded/collapsed.\n",
       "- Pipeline and ColumnTransformer use this feature and define the default style\n",
       "- Estimators will overwrite some part of the style using the `sk-estimator` class\n",
       "*/\n",
       "\n",
       "/* Pipeline and ColumnTransformer style (default) */\n",
       "\n",
       "#sk-container-id-3 div.sk-toggleable {\n",
       "  /* Default theme specific background. It is overwritten whether we have a\n",
       "  specific estimator or a Pipeline/ColumnTransformer */\n",
       "  background-color: var(--sklearn-color-background);\n",
       "}\n",
       "\n",
       "/* Toggleable label */\n",
       "#sk-container-id-3 label.sk-toggleable__label {\n",
       "  cursor: pointer;\n",
       "  display: block;\n",
       "  width: 100%;\n",
       "  margin-bottom: 0;\n",
       "  padding: 0.5em;\n",
       "  box-sizing: border-box;\n",
       "  text-align: center;\n",
       "}\n",
       "\n",
       "#sk-container-id-3 label.sk-toggleable__label-arrow:before {\n",
       "  /* Arrow on the left of the label */\n",
       "  content: \"▸\";\n",
       "  float: left;\n",
       "  margin-right: 0.25em;\n",
       "  color: var(--sklearn-color-icon);\n",
       "}\n",
       "\n",
       "#sk-container-id-3 label.sk-toggleable__label-arrow:hover:before {\n",
       "  color: var(--sklearn-color-text);\n",
       "}\n",
       "\n",
       "/* Toggleable content - dropdown */\n",
       "\n",
       "#sk-container-id-3 div.sk-toggleable__content {\n",
       "  max-height: 0;\n",
       "  max-width: 0;\n",
       "  overflow: hidden;\n",
       "  text-align: left;\n",
       "  /* unfitted */\n",
       "  background-color: var(--sklearn-color-unfitted-level-0);\n",
       "}\n",
       "\n",
       "#sk-container-id-3 div.sk-toggleable__content.fitted {\n",
       "  /* fitted */\n",
       "  background-color: var(--sklearn-color-fitted-level-0);\n",
       "}\n",
       "\n",
       "#sk-container-id-3 div.sk-toggleable__content pre {\n",
       "  margin: 0.2em;\n",
       "  border-radius: 0.25em;\n",
       "  color: var(--sklearn-color-text);\n",
       "  /* unfitted */\n",
       "  background-color: var(--sklearn-color-unfitted-level-0);\n",
       "}\n",
       "\n",
       "#sk-container-id-3 div.sk-toggleable__content.fitted pre {\n",
       "  /* unfitted */\n",
       "  background-color: var(--sklearn-color-fitted-level-0);\n",
       "}\n",
       "\n",
       "#sk-container-id-3 input.sk-toggleable__control:checked~div.sk-toggleable__content {\n",
       "  /* Expand drop-down */\n",
       "  max-height: 200px;\n",
       "  max-width: 100%;\n",
       "  overflow: auto;\n",
       "}\n",
       "\n",
       "#sk-container-id-3 input.sk-toggleable__control:checked~label.sk-toggleable__label-arrow:before {\n",
       "  content: \"▾\";\n",
       "}\n",
       "\n",
       "/* Pipeline/ColumnTransformer-specific style */\n",
       "\n",
       "#sk-container-id-3 div.sk-label input.sk-toggleable__control:checked~label.sk-toggleable__label {\n",
       "  color: var(--sklearn-color-text);\n",
       "  background-color: var(--sklearn-color-unfitted-level-2);\n",
       "}\n",
       "\n",
       "#sk-container-id-3 div.sk-label.fitted input.sk-toggleable__control:checked~label.sk-toggleable__label {\n",
       "  background-color: var(--sklearn-color-fitted-level-2);\n",
       "}\n",
       "\n",
       "/* Estimator-specific style */\n",
       "\n",
       "/* Colorize estimator box */\n",
       "#sk-container-id-3 div.sk-estimator input.sk-toggleable__control:checked~label.sk-toggleable__label {\n",
       "  /* unfitted */\n",
       "  background-color: var(--sklearn-color-unfitted-level-2);\n",
       "}\n",
       "\n",
       "#sk-container-id-3 div.sk-estimator.fitted input.sk-toggleable__control:checked~label.sk-toggleable__label {\n",
       "  /* fitted */\n",
       "  background-color: var(--sklearn-color-fitted-level-2);\n",
       "}\n",
       "\n",
       "#sk-container-id-3 div.sk-label label.sk-toggleable__label,\n",
       "#sk-container-id-3 div.sk-label label {\n",
       "  /* The background is the default theme color */\n",
       "  color: var(--sklearn-color-text-on-default-background);\n",
       "}\n",
       "\n",
       "/* On hover, darken the color of the background */\n",
       "#sk-container-id-3 div.sk-label:hover label.sk-toggleable__label {\n",
       "  color: var(--sklearn-color-text);\n",
       "  background-color: var(--sklearn-color-unfitted-level-2);\n",
       "}\n",
       "\n",
       "/* Label box, darken color on hover, fitted */\n",
       "#sk-container-id-3 div.sk-label.fitted:hover label.sk-toggleable__label.fitted {\n",
       "  color: var(--sklearn-color-text);\n",
       "  background-color: var(--sklearn-color-fitted-level-2);\n",
       "}\n",
       "\n",
       "/* Estimator label */\n",
       "\n",
       "#sk-container-id-3 div.sk-label label {\n",
       "  font-family: monospace;\n",
       "  font-weight: bold;\n",
       "  display: inline-block;\n",
       "  line-height: 1.2em;\n",
       "}\n",
       "\n",
       "#sk-container-id-3 div.sk-label-container {\n",
       "  text-align: center;\n",
       "}\n",
       "\n",
       "/* Estimator-specific */\n",
       "#sk-container-id-3 div.sk-estimator {\n",
       "  font-family: monospace;\n",
       "  border: 1px dotted var(--sklearn-color-border-box);\n",
       "  border-radius: 0.25em;\n",
       "  box-sizing: border-box;\n",
       "  margin-bottom: 0.5em;\n",
       "  /* unfitted */\n",
       "  background-color: var(--sklearn-color-unfitted-level-0);\n",
       "}\n",
       "\n",
       "#sk-container-id-3 div.sk-estimator.fitted {\n",
       "  /* fitted */\n",
       "  background-color: var(--sklearn-color-fitted-level-0);\n",
       "}\n",
       "\n",
       "/* on hover */\n",
       "#sk-container-id-3 div.sk-estimator:hover {\n",
       "  /* unfitted */\n",
       "  background-color: var(--sklearn-color-unfitted-level-2);\n",
       "}\n",
       "\n",
       "#sk-container-id-3 div.sk-estimator.fitted:hover {\n",
       "  /* fitted */\n",
       "  background-color: var(--sklearn-color-fitted-level-2);\n",
       "}\n",
       "\n",
       "/* Specification for estimator info (e.g. \"i\" and \"?\") */\n",
       "\n",
       "/* Common style for \"i\" and \"?\" */\n",
       "\n",
       ".sk-estimator-doc-link,\n",
       "a:link.sk-estimator-doc-link,\n",
       "a:visited.sk-estimator-doc-link {\n",
       "  float: right;\n",
       "  font-size: smaller;\n",
       "  line-height: 1em;\n",
       "  font-family: monospace;\n",
       "  background-color: var(--sklearn-color-background);\n",
       "  border-radius: 1em;\n",
       "  height: 1em;\n",
       "  width: 1em;\n",
       "  text-decoration: none !important;\n",
       "  margin-left: 1ex;\n",
       "  /* unfitted */\n",
       "  border: var(--sklearn-color-unfitted-level-1) 1pt solid;\n",
       "  color: var(--sklearn-color-unfitted-level-1);\n",
       "}\n",
       "\n",
       ".sk-estimator-doc-link.fitted,\n",
       "a:link.sk-estimator-doc-link.fitted,\n",
       "a:visited.sk-estimator-doc-link.fitted {\n",
       "  /* fitted */\n",
       "  border: var(--sklearn-color-fitted-level-1) 1pt solid;\n",
       "  color: var(--sklearn-color-fitted-level-1);\n",
       "}\n",
       "\n",
       "/* On hover */\n",
       "div.sk-estimator:hover .sk-estimator-doc-link:hover,\n",
       ".sk-estimator-doc-link:hover,\n",
       "div.sk-label-container:hover .sk-estimator-doc-link:hover,\n",
       ".sk-estimator-doc-link:hover {\n",
       "  /* unfitted */\n",
       "  background-color: var(--sklearn-color-unfitted-level-3);\n",
       "  color: var(--sklearn-color-background);\n",
       "  text-decoration: none;\n",
       "}\n",
       "\n",
       "div.sk-estimator.fitted:hover .sk-estimator-doc-link.fitted:hover,\n",
       ".sk-estimator-doc-link.fitted:hover,\n",
       "div.sk-label-container:hover .sk-estimator-doc-link.fitted:hover,\n",
       ".sk-estimator-doc-link.fitted:hover {\n",
       "  /* fitted */\n",
       "  background-color: var(--sklearn-color-fitted-level-3);\n",
       "  color: var(--sklearn-color-background);\n",
       "  text-decoration: none;\n",
       "}\n",
       "\n",
       "/* Span, style for the box shown on hovering the info icon */\n",
       ".sk-estimator-doc-link span {\n",
       "  display: none;\n",
       "  z-index: 9999;\n",
       "  position: relative;\n",
       "  font-weight: normal;\n",
       "  right: .2ex;\n",
       "  padding: .5ex;\n",
       "  margin: .5ex;\n",
       "  width: min-content;\n",
       "  min-width: 20ex;\n",
       "  max-width: 50ex;\n",
       "  color: var(--sklearn-color-text);\n",
       "  box-shadow: 2pt 2pt 4pt #999;\n",
       "  /* unfitted */\n",
       "  background: var(--sklearn-color-unfitted-level-0);\n",
       "  border: .5pt solid var(--sklearn-color-unfitted-level-3);\n",
       "}\n",
       "\n",
       ".sk-estimator-doc-link.fitted span {\n",
       "  /* fitted */\n",
       "  background: var(--sklearn-color-fitted-level-0);\n",
       "  border: var(--sklearn-color-fitted-level-3);\n",
       "}\n",
       "\n",
       ".sk-estimator-doc-link:hover span {\n",
       "  display: block;\n",
       "}\n",
       "\n",
       "/* \"?\"-specific style due to the `<a>` HTML tag */\n",
       "\n",
       "#sk-container-id-3 a.estimator_doc_link {\n",
       "  float: right;\n",
       "  font-size: 1rem;\n",
       "  line-height: 1em;\n",
       "  font-family: monospace;\n",
       "  background-color: var(--sklearn-color-background);\n",
       "  border-radius: 1rem;\n",
       "  height: 1rem;\n",
       "  width: 1rem;\n",
       "  text-decoration: none;\n",
       "  /* unfitted */\n",
       "  color: var(--sklearn-color-unfitted-level-1);\n",
       "  border: var(--sklearn-color-unfitted-level-1) 1pt solid;\n",
       "}\n",
       "\n",
       "#sk-container-id-3 a.estimator_doc_link.fitted {\n",
       "  /* fitted */\n",
       "  border: var(--sklearn-color-fitted-level-1) 1pt solid;\n",
       "  color: var(--sklearn-color-fitted-level-1);\n",
       "}\n",
       "\n",
       "/* On hover */\n",
       "#sk-container-id-3 a.estimator_doc_link:hover {\n",
       "  /* unfitted */\n",
       "  background-color: var(--sklearn-color-unfitted-level-3);\n",
       "  color: var(--sklearn-color-background);\n",
       "  text-decoration: none;\n",
       "}\n",
       "\n",
       "#sk-container-id-3 a.estimator_doc_link.fitted:hover {\n",
       "  /* fitted */\n",
       "  background-color: var(--sklearn-color-fitted-level-3);\n",
       "}\n",
       "</style><div id=\"sk-container-id-3\" class=\"sk-top-container\"><div class=\"sk-text-repr-fallback\"><pre>LinearRegression(n_jobs=-1)</pre><b>In a Jupyter environment, please rerun this cell to show the HTML representation or trust the notebook. <br />On GitHub, the HTML representation is unable to render, please try loading this page with nbviewer.org.</b></div><div class=\"sk-container\" hidden><div class=\"sk-item\"><div class=\"sk-estimator fitted sk-toggleable\"><input class=\"sk-toggleable__control sk-hidden--visually\" id=\"sk-estimator-id-3\" type=\"checkbox\" checked><label for=\"sk-estimator-id-3\" class=\"sk-toggleable__label fitted sk-toggleable__label-arrow fitted\">&nbsp;&nbsp;LinearRegression<a class=\"sk-estimator-doc-link fitted\" rel=\"noreferrer\" target=\"_blank\" href=\"https://scikit-learn.org/1.5/modules/generated/sklearn.linear_model.LinearRegression.html\">?<span>Documentation for LinearRegression</span></a><span class=\"sk-estimator-doc-link fitted\">i<span>Fitted</span></span></label><div class=\"sk-toggleable__content fitted\"><pre>LinearRegression(n_jobs=-1)</pre></div> </div></div></div></div>"
      ],
      "text/plain": [
       "LinearRegression(n_jobs=-1)"
      ]
     },
     "execution_count": 73,
     "metadata": {},
     "output_type": "execute_result"
    }
   ],
   "source": [
    "# Let's Implement simple linear regression\n",
    "\n",
    "from sklearn.linear_model import LinearRegression\n",
    "\n",
    "regression = LinearRegression(n_jobs = -1)\n",
    "\n",
    "regression.fit(X_train, y_train)"
   ]
  },
  {
   "cell_type": "code",
   "execution_count": 74,
   "id": "ccf70452",
   "metadata": {},
   "outputs": [],
   "source": [
    "## Prediction data\n",
    "y_pred = regression.predict(X_test)"
   ]
  },
  {
   "cell_type": "code",
   "execution_count": 75,
   "id": "c37c98bb",
   "metadata": {},
   "outputs": [
    {
     "data": {
      "text/plain": [
       "0.6517667218574366"
      ]
     },
     "execution_count": 75,
     "metadata": {},
     "output_type": "execute_result"
    }
   ],
   "source": [
    "from sklearn.metrics import r2_score\n",
    "\n",
    "score = r2_score(y_test, y_pred)\n",
    "score"
   ]
  },
  {
   "cell_type": "code",
   "execution_count": 76,
   "id": "1b6ad4d1",
   "metadata": {},
   "outputs": [
    {
     "data": {
      "image/png": "[encoded data removed]",
      "text/plain": [
       "<Figure size 640x480 with 1 Axes>"
      ]
     },
     "metadata": {},
     "output_type": "display_data"
    }
   ],
   "source": [
    "plt.scatter(X_train, y_train, c = 'g')\n",
    "plt.plot(X_train, regression.predict(X_train),c = 'r')\n",
    "plt.xlabel(\"X Dataset\")\n",
    "plt.ylabel(\"Y\")\n",
    "plt.show()"
   ]
  },
  {
   "cell_type": "code",
   "execution_count": 77,
   "id": "b285d02d",
   "metadata": {},
   "outputs": [],
   "source": [
    "## Let's apply polynomial transformation\n",
    "\n",
    "from sklearn.preprocessing import PolynomialFeatures\n",
    "\n",
    "poly = PolynomialFeatures(degree = 2, include_bias = True)\n",
    "\n",
    "X_train_poly = poly.fit_transform(X_train)\n",
    "X_test_poly = poly.transform(X_test)"
   ]
  },
  {
   "cell_type": "code",
   "execution_count": 78,
   "id": "9602427c",
   "metadata": {},
   "outputs": [
    {
     "data": {
      "text/plain": [
       "array([[ 1.00000000e+00, -1.89957294e+00,  3.60837736e+00],\n",
       "       [ 1.00000000e+00, -2.26777059e+00,  5.14278345e+00],\n",
       "       [ 1.00000000e+00,  1.36396976e-01,  1.86041351e-02],\n",
       "       [ 1.00000000e+00,  1.24843547e+00,  1.55859111e+00],\n",
       "       [ 1.00000000e+00, -2.96686730e+00,  8.80230156e+00],\n",
       "       [ 1.00000000e+00,  2.81945911e+00,  7.94934969e+00],\n",
       "       [ 1.00000000e+00,  1.20408127e-01,  1.44981171e-02],\n",
       "       [ 1.00000000e+00, -1.04890007e+00,  1.10019135e+00],\n",
       "       [ 1.00000000e+00,  5.54487413e-01,  3.07456291e-01],\n",
       "       [ 1.00000000e+00,  3.67663185e-01,  1.35176218e-01],\n",
       "       [ 1.00000000e+00, -2.06403288e+00,  4.26023172e+00],\n",
       "       [ 1.00000000e+00, -2.15445465e+00,  4.64167484e+00],\n",
       "       [ 1.00000000e+00,  2.56176499e-01,  6.56263986e-02],\n",
       "       [ 1.00000000e+00,  1.85038409e+00,  3.42392128e+00],\n",
       "       [ 1.00000000e+00, -1.17454654e+00,  1.37955958e+00],\n",
       "       [ 1.00000000e+00, -1.89087327e+00,  3.57540171e+00],\n",
       "       [ 1.00000000e+00,  2.79379220e+00,  7.80527485e+00],\n",
       "       [ 1.00000000e+00,  2.19705687e+00,  4.82705891e+00],\n",
       "       [ 1.00000000e+00, -3.72264218e-02,  1.38580648e-03],\n",
       "       [ 1.00000000e+00,  8.54066305e-02,  7.29429253e-03],\n",
       "       [ 1.00000000e+00, -1.25262516e+00,  1.56906979e+00],\n",
       "       [ 1.00000000e+00,  7.39788761e-01,  5.47287411e-01],\n",
       "       [ 1.00000000e+00,  1.71105577e+00,  2.92771184e+00],\n",
       "       [ 1.00000000e+00,  1.97242505e+00,  3.89046060e+00],\n",
       "       [ 1.00000000e+00, -1.72596534e+00,  2.97895634e+00],\n",
       "       [ 1.00000000e+00, -2.63580095e-01,  6.94744663e-02],\n",
       "       [ 1.00000000e+00,  5.91950905e-01,  3.50405874e-01],\n",
       "       [ 1.00000000e+00,  1.48538590e-01,  2.20637127e-02],\n",
       "       [ 1.00000000e+00,  1.10539816e+00,  1.22190509e+00],\n",
       "       [ 1.00000000e+00,  6.06690070e-01,  3.68072842e-01],\n",
       "       [ 1.00000000e+00, -8.49205629e-01,  7.21150200e-01],\n",
       "       [ 1.00000000e+00, -2.65149833e+00,  7.03044338e+00],\n",
       "       [ 1.00000000e+00, -1.31439294e+00,  1.72762881e+00],\n",
       "       [ 1.00000000e+00, -1.17231738e+00,  1.37432805e+00],\n",
       "       [ 1.00000000e+00, -1.66710449e-01,  2.77923738e-02],\n",
       "       [ 1.00000000e+00, -2.46904499e+00,  6.09618315e+00],\n",
       "       [ 1.00000000e+00, -2.35265144e+00,  5.53496879e+00],\n",
       "       [ 1.00000000e+00,  5.87399873e-01,  3.45038611e-01],\n",
       "       [ 1.00000000e+00,  2.45592241e+00,  6.03155490e+00],\n",
       "       [ 1.00000000e+00,  2.81750777e+00,  7.93835001e+00],\n",
       "       [ 1.00000000e+00,  1.81318188e+00,  3.28762855e+00],\n",
       "       [ 1.00000000e+00, -1.12973354e+00,  1.27629788e+00],\n",
       "       [ 1.00000000e+00, -2.55269614e+00,  6.51625757e+00],\n",
       "       [ 1.00000000e+00, -1.37190581e+00,  1.88212555e+00],\n",
       "       [ 1.00000000e+00, -4.34753890e-01,  1.89010945e-01],\n",
       "       [ 1.00000000e+00, -2.30478564e+00,  5.31203686e+00],\n",
       "       [ 1.00000000e+00, -2.89385393e-02,  8.37439059e-04],\n",
       "       [ 1.00000000e+00, -2.72863627e+00,  7.44545588e+00],\n",
       "       [ 1.00000000e+00,  2.80261676e-01,  7.85466071e-02],\n",
       "       [ 1.00000000e+00, -2.84748524e+00,  8.10817219e+00],\n",
       "       [ 1.00000000e+00, -1.82410283e+00,  3.32735112e+00],\n",
       "       [ 1.00000000e+00,  1.37404301e+00,  1.88799419e+00],\n",
       "       [ 1.00000000e+00, -2.60969044e+00,  6.81048420e+00],\n",
       "       [ 1.00000000e+00,  1.62580308e+00,  2.64323565e+00],\n",
       "       [ 1.00000000e+00, -1.04801802e+00,  1.09834176e+00],\n",
       "       [ 1.00000000e+00, -8.59480040e-01,  7.38705939e-01],\n",
       "       [ 1.00000000e+00, -1.13410607e+00,  1.28619658e+00],\n",
       "       [ 1.00000000e+00, -2.41396732e+00,  5.82723820e+00],\n",
       "       [ 1.00000000e+00, -2.72129752e+00,  7.40546021e+00],\n",
       "       [ 1.00000000e+00,  2.70428584e+00,  7.31316190e+00],\n",
       "       [ 1.00000000e+00,  2.63699365e+00,  6.95373551e+00],\n",
       "       [ 1.00000000e+00, -2.16303684e+00,  4.67872835e+00],\n",
       "       [ 1.00000000e+00,  1.39196365e+00,  1.93756281e+00],\n",
       "       [ 1.00000000e+00, -8.01828940e-01,  6.42929649e-01],\n",
       "       [ 1.00000000e+00,  8.25344828e-01,  6.81194085e-01],\n",
       "       [ 1.00000000e+00,  1.27946872e+00,  1.63704021e+00],\n",
       "       [ 1.00000000e+00,  1.24114406e+00,  1.54043859e+00],\n",
       "       [ 1.00000000e+00,  1.37763707e+00,  1.89788390e+00],\n",
       "       [ 1.00000000e+00, -1.01461185e+00,  1.02943721e+00],\n",
       "       [ 1.00000000e+00,  6.71117368e-01,  4.50398522e-01],\n",
       "       [ 1.00000000e+00, -6.67936262e-01,  4.46138850e-01],\n",
       "       [ 1.00000000e+00, -1.80770591e+00,  3.26780066e+00],\n",
       "       [ 1.00000000e+00, -1.90905020e+00,  3.64447265e+00],\n",
       "       [ 1.00000000e+00,  1.56471029e+00,  2.44831830e+00],\n",
       "       [ 1.00000000e+00,  1.65079694e+00,  2.72513054e+00]])"
      ]
     },
     "execution_count": 78,
     "metadata": {},
     "output_type": "execute_result"
    }
   ],
   "source": [
    "X_train_poly\n",
    "\n",
    "## c + m1x + m2x^2"
   ]
  },
  {
   "cell_type": "code",
   "execution_count": 79,
   "id": "124e46be",
   "metadata": {},
   "outputs": [
    {
     "data": {
      "text/plain": [
       "array([[ 1.        , -2.6186499 ,  6.85732729],\n",
       "       [ 1.        ,  2.3689641 ,  5.61199092],\n",
       "       [ 1.        ,  1.63346862,  2.66821972],\n",
       "       [ 1.        ,  0.97513371,  0.95088574],\n",
       "       [ 1.        , -1.44732011,  2.0947355 ],\n",
       "       [ 1.        , -0.35908504,  0.12894206],\n",
       "       [ 1.        , -1.24713211,  1.5553385 ],\n",
       "       [ 1.        ,  2.17862056,  4.74638752],\n",
       "       [ 1.        , -2.87649303,  8.27421218],\n",
       "       [ 1.        , -0.75275929,  0.56664654],\n",
       "       [ 1.        , -0.40832989,  0.1667333 ],\n",
       "       [ 1.        ,  0.64526911,  0.41637223],\n",
       "       [ 1.        ,  1.89276857,  3.58257286],\n",
       "       [ 1.        ,  2.69331322,  7.25393612],\n",
       "       [ 1.        , -2.28243452,  5.20950736],\n",
       "       [ 1.        , -2.06388816,  4.25963433],\n",
       "       [ 1.        ,  1.62762208,  2.64915364],\n",
       "       [ 1.        , -2.55573209,  6.53176651],\n",
       "       [ 1.        ,  1.99465584,  3.97865194],\n",
       "       [ 1.        , -1.97685526,  3.90795671],\n",
       "       [ 1.        ,  2.53124541,  6.40720333],\n",
       "       [ 1.        ,  2.32327646,  5.39761349],\n",
       "       [ 1.        , -1.80195731,  3.24705014],\n",
       "       [ 1.        , -2.79366887,  7.80458577],\n",
       "       [ 1.        ,  2.92132162,  8.53412001]])"
      ]
     },
     "execution_count": 79,
     "metadata": {},
     "output_type": "execute_result"
    }
   ],
   "source": [
    "X_test_poly"
   ]
  },
  {
   "cell_type": "code",
   "execution_count": 80,
   "id": "419f4e81",
   "metadata": {},
   "outputs": [
    {
     "name": "stdout",
     "output_type": "stream",
     "text": [
      "0.9438298073788599\n"
     ]
    }
   ],
   "source": [
    "## retrain model after applying polynomial regression\n",
    "\n",
    "from sklearn.metrics import r2_score\n",
    "\n",
    "regression = LinearRegression()\n",
    "regression.fit(X_train_poly, y_train)\n",
    "\n",
    "y_pred = regression.predict(X_test_poly)\n",
    "\n",
    "score = r2_score(y_test, y_pred)\n",
    "print(score)"
   ]
  },
  {
   "cell_type": "code",
   "execution_count": 81,
   "id": "188d38dd",
   "metadata": {},
   "outputs": [
    {
     "name": "stdout",
     "output_type": "stream",
     "text": [
      "[[0.         1.42074271 0.54611045]]\n",
      "[1.76496582]\n"
     ]
    }
   ],
   "source": [
    "print(regression.coef_)\n",
    "print(regression.intercept_)"
   ]
  },
  {
   "cell_type": "code",
   "execution_count": 82,
   "id": "270a93d8",
   "metadata": {},
   "outputs": [
    {
     "data": {
      "image/png": "[encoded data removed]",
      "text/plain": [
       "<Figure size 640x480 with 1 Axes>"
      ]
     },
     "metadata": {},
     "output_type": "display_data"
    }
   ],
   "source": [
    "plt.scatter(X_train, y_train)\n",
    "plt.scatter(X_train, regression.predict(X_train_poly))\n",
    "plt.show()"
   ]
  },
  {
   "cell_type": "code",
   "execution_count": 83,
   "id": "b6844683",
   "metadata": {},
   "outputs": [
    {
     "data": {
      "image/png": "[encoded data removed]",
      "text/plain": [
       "<Figure size 640x480 with 1 Axes>"
      ]
     },
     "metadata": {},
     "output_type": "display_data"
    }
   ],
   "source": [
    "## Predict new data set\n",
    "\n",
    "X_new = np.linspace(-3, 3, 200).reshape(200, 1)\n",
    "X_new_poly = poly.transform(X_new)\n",
    "\n",
    "\n",
    "y_new = regression.predict(X_new_poly)\n",
    "\n",
    "plt.scatter(X_train, y_train, label = 'Training Data')\n",
    "plt.scatter(X_test, y_test, label = 'Testing Data')\n",
    "plt.plot(X_new, y_new, label = 'New Prediction')\n",
    "plt.xlabel(\"X\")\n",
    "plt.ylabel(\"y\")\n",
    "plt.legend()\n",
    "plt.show()"
   ]
  },
  {
   "cell_type": "code",
   "execution_count": 84,
   "id": "41d2e3aa",
   "metadata": {},
   "outputs": [
    {
     "name": "stdout",
     "output_type": "stream",
     "text": [
      "0.9424693040197244\n"
     ]
    }
   ],
   "source": [
    "## check for 3 degree\n",
    "\n",
    "poly = PolynomialFeatures(degree = 3, include_bias = True)\n",
    "X_train_poly = poly.fit_transform(X_train)\n",
    "X_test_poly = poly.fit_transform(X_test)\n",
    "\n",
    "regression = LinearRegression()\n",
    "regression.fit(X_train_poly, y_train)\n",
    "\n",
    "y_pred = regression.predict(X_test_poly)\n",
    "\n",
    "score = r2_score(y_test, y_pred)\n",
    "\n",
    "print(score)"
   ]
  },
  {
   "cell_type": "markdown",
   "id": "26228680",
   "metadata": {},
   "source": [
    "when we increase degreen 2 to 3 minute change apear in accuracy.\n"
   ]
  },
  {
   "cell_type": "markdown",
   "id": "ec6599f6",
   "metadata": {},
   "source": [
    "## __`Pipeline Concepts`__ "
   ]
  },
  {
   "cell_type": "code",
   "execution_count": 85,
   "id": "a54e3923",
   "metadata": {},
   "outputs": [],
   "source": [
    "from sklearn.pipeline import Pipeline"
   ]
  },
  {
   "cell_type": "code",
   "execution_count": 86,
   "id": "16c9fa57",
   "metadata": {},
   "outputs": [],
   "source": [
    "def poly_regression(degree):\n",
    "    \n",
    "    X_new = np.linspace(-3, 3, 200).reshape(200, 1)\n",
    "\n",
    "    poly_feature = PolynomialFeatures(degree = degree, include_bias = True)\n",
    "    lin_reg = LinearRegression(n_jobs = -1)\n",
    "\n",
    "    poly_regression = Pipeline([\n",
    "        ('poly_features', poly_feature),\n",
    "        ('lin_reg', lin_reg)\n",
    "    ])\n",
    "\n",
    "    poly_regression.fit(X_train, y_train) # fit for polynomial tranformation and apply linear Regression\n",
    "\n",
    "    y_pred_new = poly_regression.predict(X_new)\n",
    "    score = r2_score(y_test, poly_regression.predict(X_test))\n",
    "\n",
    "\n",
    "    print(f'The Accuracy of model with degree {degree} is : {score * 100:.2f}%')\n",
    "    ## Ploting Prediction line\n",
    "    plt.scatter(X_train, y_train, label = 'Train_data')\n",
    "    plt.scatter(X_test, y_test, label = 'Test Data')\n",
    "    plt.plot(X_new, y_pred_new, 'r' , label = \"Degree \" + str(degree))\n",
    "    plt.legend()\n",
    "    plt.xlabel(\"X\")\n",
    "    plt.ylabel(\"y\")\n",
    "    plt.show()"
   ]
  },
  {
   "cell_type": "code",
   "execution_count": 87,
   "id": "581b6d54",
   "metadata": {},
   "outputs": [
    {
     "name": "stdout",
     "output_type": "stream",
     "text": [
      "The Accuracy of model with degree 2 is : 94.38%\n"
     ]
    },
    {
     "data": {
      "image/png": "[encoded data removed]",
      "text/plain": [
       "<Figure size 640x480 with 1 Axes>"
      ]
     },
     "metadata": {},
     "output_type": "display_data"
    }
   ],
   "source": [
    "## Call the function\n",
    "poly_regression(2)"
   ]
  }
 ],
 "metadata": {
  "kernelspec": {
   "display_name": "base",
   "language": "python",
   "name": "python3"
  },
  "language_info": {
   "codemirror_mode": {
    "name": "ipython",
    "version": 3
   },
   "file_extension": ".py",
   "mimetype": "text/x-python",
   "name": "python",
   "nbconvert_exporter": "python",
   "pygments_lexer": "ipython3",
   "version": "3.12.7"
  }
 },
 "nbformat": 4,
 "nbformat_minor": 5
}
