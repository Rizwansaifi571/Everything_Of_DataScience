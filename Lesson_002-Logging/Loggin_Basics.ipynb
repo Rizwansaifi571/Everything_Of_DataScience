{
 "cells": [
  {
   "cell_type": "code",
   "execution_count": 1,
   "id": "ae884bf4",
   "metadata": {},
   "outputs": [],
   "source": [
    "import logging"
   ]
  },
  {
   "cell_type": "code",
   "execution_count": 2,
   "id": "ccb26dd4",
   "metadata": {},
   "outputs": [],
   "source": [
    "# configure the basic logging setup\n",
    "\n",
    "logging.basicConfig(level = logging.DEBUG)"
   ]
  },
  {
   "cell_type": "code",
   "execution_count": 3,
   "id": "4668b3de",
   "metadata": {},
   "outputs": [
    {
     "name": "stderr",
     "output_type": "stream",
     "text": [
      "DEBUG:root:This is a debug message\n",
      "INFO:root:This is an info message\n",
      "WARNING:root:This is a warning message\n",
      "ERROR:root:This is an error message\n",
      "CRITICAL:root:This is a critical message\n"
     ]
    }
   ],
   "source": [
    "# log messages with different severity levels\n",
    "\n",
    "logging.debug(\"This is a debug message\")\n",
    "logging.info(\"This is an info message\")\n",
    "logging.warning(\"This is a warning message\")\n",
    "logging.error(\"This is an error message\")\n",
    "logging.critical(\"This is a critical message\")"
   ]
  },
  {
   "cell_type": "code",
   "execution_count": 1,
   "id": "c40bec08",
   "metadata": {},
   "outputs": [
    {
     "name": "stderr",
     "output_type": "stream",
     "text": [
      "2025-07-23 17:46:13 : root : INFO - This is an info message\n"
     ]
    }
   ],
   "source": [
    "## configure logging format\n",
    "import logging\n",
    "\n",
    "logging.basicConfig(\n",
    "    level = logging.DEBUG, \n",
    "    format = '%(asctime)s : %(name)s : %(levelname)s - %(message)s', \n",
    "    datefmt = '%Y-%m-%d %H:%M:%S'\n",
    ")\n",
    "\n",
    "logging.info(\"This is an info message\")"
   ]
  },
  {
   "cell_type": "code",
   "execution_count": null,
   "id": "b4e3fb55",
   "metadata": {},
   "outputs": [],
   "source": [
    "## add file to save log\n",
    "import logging\n",
    "\n",
    "logging.basicConfig(\n",
    "    filename = 'log_file.log',  # file name\n",
    "    filemode = 'w',             # write mode\n",
    "    level = logging.DEBUG, \n",
    "    format = '%(asctime)s : %(name)s : %(levelname)s - %(message)s', \n",
    "    datefmt = '%Y-%m-%d %H:%M:%S'\n",
    ")\n",
    "\n",
    "logging.info(\"This is an info message\")"
   ]
  },
  {
   "cell_type": "code",
   "execution_count": 3,
   "id": "1368f445",
   "metadata": {},
   "outputs": [],
   "source": [
    "logging.debug(\"This is a debug message\")\n",
    "logging.info(\"This is an info message\")\n",
    "logging.warning(\"This is a warning message\")\n",
    "logging.error(\"This is an error message\")\n",
    "logging.critical(\"This is a critical message\")"
   ]
  },
  {
   "cell_type": "code",
   "execution_count": null,
   "id": "210cd6f2",
   "metadata": {},
   "outputs": [],
   "source": []
  }
 ],
 "metadata": {
  "kernelspec": {
   "display_name": "base",
   "language": "python",
   "name": "python3"
  },
  "language_info": {
   "codemirror_mode": {
    "name": "ipython",
    "version": 3
   },
   "file_extension": ".py",
   "mimetype": "text/x-python",
   "name": "python",
   "nbconvert_exporter": "python",
   "pygments_lexer": "ipython3",
   "version": "3.12.7"
  }
 },
 "nbformat": 4,
 "nbformat_minor": 5
}
