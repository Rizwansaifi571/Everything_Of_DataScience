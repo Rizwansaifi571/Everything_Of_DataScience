{
 "cells": [
  {
   "cell_type": "code",
   "execution_count": 1,
   "id": "b37cbf25",
   "metadata": {},
   "outputs": [],
   "source": [
    "import logging"
   ]
  },
  {
   "cell_type": "code",
   "execution_count": 2,
   "id": "d7c88bfa",
   "metadata": {},
   "outputs": [],
   "source": [
    "logger1 = logging.getLogger(\"module-1\")\n",
    "logger1.setLevel(logging.DEBUG)\n",
    "\n",
    "logger2 = logging.getLogger(\"module-2\")\n",
    "logger2.setLevel(logging.WARNING)"
   ]
  },
  {
   "cell_type": "code",
   "execution_count": 3,
   "id": "159eda60",
   "metadata": {},
   "outputs": [],
   "source": [
    "logging.basicConfig(\n",
    "    format = '%(asctime)s - %(name)s - %(levelname)s - %(message)s', \n",
    "    datefmt = '%Y-%m-%d %H:%M:%S'\n",
    ")"
   ]
  },
  {
   "cell_type": "code",
   "execution_count": 4,
   "id": "b9f5fe1a",
   "metadata": {},
   "outputs": [
    {
     "name": "stderr",
     "output_type": "stream",
     "text": [
      "2025-07-23 18:24:06 - module-1 - DEBUG - Debug message for module 1\n",
      "2025-07-23 18:24:06 - module-2 - WARNING - Warning message for module 2\n",
      "2025-07-23 18:24:06 - module-2 - ERROR - Error in module2\n"
     ]
    }
   ],
   "source": [
    "logger1.debug(\"Debug message for module 1\")\n",
    "logger2.warning(\"Warning message for module 2\")\n",
    "logger2.error(\"Error in module2\")"
   ]
  }
 ],
 "metadata": {
  "kernelspec": {
   "display_name": "base",
   "language": "python",
   "name": "python3"
  },
  "language_info": {
   "codemirror_mode": {
    "name": "ipython",
    "version": 3
   },
   "file_extension": ".py",
   "mimetype": "text/x-python",
   "name": "python",
   "nbconvert_exporter": "python",
   "pygments_lexer": "ipython3",
   "version": "3.12.7"
  }
 },
 "nbformat": 4,
 "nbformat_minor": 5
}
